{
 "cells": [
  {
   "cell_type": "markdown",
   "metadata": {},
   "source": [
    "# Assignment 4\n",
    "\n",
    "## Constraint satisfaction problems\n"
   ]
  },
  {
   "cell_type": "markdown",
   "metadata": {},
   "source": [
    "*Joshua Burris*"
   ]
  },
  {
   "cell_type": "markdown",
   "metadata": {},
   "source": [
    "Consider the problem of placing $k$ black and $k$ white knights on an\n",
    "$n \\times n$ chess board such that no two knights of the **same** color are attacking each other.  We'll call it the **k-knights problem**.\n",
    "Your task is to solve this problem by considering it as a constraint satisfaction problem.\n",
    "\n",
    "**Task 1:** Formulate the problem as a constraint satisfaction problem\n",
    "with binary constraints.\n",
    "Describe the variables, their domains, and the constraints.\n"
   ]
  },
  {
   "cell_type": "markdown",
   "metadata": {},
   "source": [
    "**Task 2:**\n",
    "Implement a class called `knights` that is a sub-class of `csp.CSP` (this refers to the class `CSP` within the module `csp.py` in the code library provided with the textbook).  Your implementation of the class needs to allow you to solve the problem with any of the solvers implemented in the `csp` module.\n"
   ]
  },
  {
   "cell_type": "markdown",
   "metadata": {},
   "source": [
    "**Task 3:**\n",
    "Solve the k-knights problem using backtracking search with\n",
    "the various heuristics we have studied in class and compare their\n",
    "effectiveness quantified by the number of variable assignments required to get to a solution.\n",
    "\n",
    "In your experiments, use values of $k$ and $n$ that provide these\n",
    "methods a challenge and takes sufficient time so that you can obtain some resolution for the comparison of the different heuristics (i.e. $n$ sufficiently large, and $k$ chosen such that it's not too easy to find a solution)."
   ]
  },
  {
   "cell_type": "markdown",
   "metadata": {},
   "source": [
    "**Task 4:**  The AC3 algorithm. In some cases this algorithm is able to solve constraint satisfaction problems, or at least make some progress towards the solution. Is this the case here?  If not, explain why, and if yes, does it lead to solutions that require a smaller number of variable assignments when used in conjunction with backtracking search?\n"
   ]
  },
  {
   "cell_type": "markdown",
   "metadata": {},
   "source": [
    "## Answers"
   ]
  },
  {
   "cell_type": "markdown",
   "metadata": {},
   "source": [
    "### Task 1: *Formulation of the k-knights problem*\n",
    "\n",
    "<u>Variables</u>: (B<sub>1</sub>, B<sub>2</sub>,...,B<sub>k</sub>) will be the black and (W<sub>1</sub>, W<sub>2</sub>,...,W<sub>k</sub>) will be the white knights on the chess board. It will be kept in memory as a list of strings. For example: ['B1', 'B2',...,'Bk', 'W1', 'W2',...,'Wk'].\n",
    "\n",
    "<u>Domains</u>: (D<sub>1</sub>, D<sub>2</sub>, ...,D<sub>k\\*2</sub>) is defined by the possible values for the list of variables. On an *n* x *n* chess board these will be the possible tiles that each knight can occupy. To start, each knight has the ability to stand on any tile. We will also keep this information as a dictionary in memory, so for every variable we will assign a list from 0 to n-1. For example: {'W1': [0,2,...,n-1], 'W2': [0,2,...,n-1],..., 'Wk': [0,2,...,n-1], 'B1': [0,2,...,n-1], 'B2': [0,2,...,n-1],..., 'Bk': [0,2,...,n-1]}.\n",
    "\n",
    "<u>Constraints</u>: (C<sub>1</sub>, C<sub>2</sub>,...,C<sub>m</sub>) will be defined such that no two knights of the **same** color are able to attack each other, and that no two knights occupy the same tile space. For example: Tile of B<sub>1</sub> ≠ Tile of B<sub>3</sub>.\n"
   ]
  },
  {
   "cell_type": "markdown",
   "metadata": {},
   "source": [
    "### Task 2: *Implementation*\n"
   ]
  },
  {
   "cell_type": "code",
   "execution_count": 28,
   "metadata": {},
   "outputs": [],
   "source": [
    "# complete the implementation of the following class so it is able\n",
    "# to solve the k-knights problem.\n",
    "\n",
    "import csp\n",
    "import time\n",
    "\n",
    "class knights(csp.CSP) :\n",
    "    def __init__(self, k, n) :\n",
    "        self.k = k\n",
    "        self.n = n\n",
    "        \n",
    "        self.moves = {'UP': -n, 'DOWN': n, 'RIGHT': 1, 'LEFT': -1}\n",
    "        self.possible_moves = [self.moves['UP']*2 + self.moves['LEFT'],\n",
    "             self.moves['UP']*2 + self.moves['RIGHT'],\n",
    "             self.moves['LEFT']*2 + self.moves['UP'],\n",
    "             self.moves['LEFT']*2 + self.moves['DOWN'],\n",
    "             self.moves['RIGHT']*2 + self.moves['UP'],\n",
    "             self.moves['RIGHT']*2 + self.moves['DOWN'],\n",
    "             self.moves['DOWN']*2 + self.moves['LEFT'],\n",
    "             self.moves['DOWN']*2 + self.moves['RIGHT']]\n",
    "        \n",
    "        self.variables = []\n",
    "        #for i in range(k) :\n",
    "        #    self.variables += ['W'+str(i+1), 'B'+str(i+1)]\n",
    "        for i in range(k) :\n",
    "            self.variables += ['W'+str(i+1)]\n",
    "        for i in range(k) :\n",
    "            self.variables += ['B'+str(i+1)]\n",
    "        \n",
    "        self.domains = {}\n",
    "        for var in self.variables :\n",
    "            self.domains[var] = [i for i in range(n*n)]\n",
    "        \n",
    "        self.neighbors = {}\n",
    "        for v in self.variables :\n",
    "            l = []\n",
    "            for j in self.variables :\n",
    "                if v != j :\n",
    "                    l.append(j)\n",
    "            self.neighbors[v] = l\n",
    "        \n",
    "        def constr(A, a, B, b) :\n",
    "            if a == b :\n",
    "                return False\n",
    "            if (A[0] == 'W' and B[0] == 'W') or (A[0] == 'B' and B[0] == 'B') :\n",
    "                for i in self.possible_moves :\n",
    "                    if a+i == b :\n",
    "                        return False\n",
    "            return True\n",
    "        self.constraints = constr\n",
    "        \n",
    "        self.initial = ()\n",
    "        self.curr_domains = None\n",
    "        self.nassigns = 0\n",
    "\n",
    "    def display(self, assignment) :\n",
    "        board = ['∙']*(self.n*self.n)\n",
    "        for key, value in assignment.items() :\n",
    "            board[value] = key[0]\n",
    "        print('―'*(self.n*2+1))\n",
    "        for i in range(self.n) :\n",
    "            print('|', end='')\n",
    "            for j in range(self.n) :\n",
    "                print(board[self.n*i + j], end='|')\n",
    "            print()\n",
    "            print('―'*(self.n*2+1))"
   ]
  },
  {
   "cell_type": "markdown",
   "metadata": {},
   "source": [
    "### Task 3: *Experiments on the k-knights problem*"
   ]
  },
  {
   "cell_type": "code",
   "execution_count": 29,
   "metadata": {
    "scrolled": false
   },
   "outputs": [
    {
     "name": "stdout",
     "output_type": "stream",
     "text": [
      "Heuristic: None\n",
      "Time (seconds): 0.9300222396850586\n",
      "Assignments: 2027\n",
      "Solution:\n",
      "―――――――――――\n",
      "|W|W|W|B|∙|\n",
      "―――――――――――\n",
      "|B|W|B|∙|B|\n",
      "―――――――――――\n",
      "|∙|B|∙|B|W|\n",
      "―――――――――――\n",
      "|∙|W|B|W|B|\n",
      "―――――――――――\n",
      "|W|B|W|B|W|\n",
      "―――――――――――\n",
      "\n",
      "Heuristic: Most constrained variable\n",
      "Time (seconds): 0.009557247161865234\n",
      "Assignments: 20\n",
      "Solution:\n",
      "―――――――――――\n",
      "|B|W|B|W|B|\n",
      "―――――――――――\n",
      "|W|B|W|B|W|\n",
      "―――――――――――\n",
      "|B|W|B|W|B|\n",
      "―――――――――――\n",
      "|W|B|W|B|W|\n",
      "―――――――――――\n",
      "|∙|∙|∙|∙|∙|\n",
      "―――――――――――\n",
      "\n",
      "Heuristic: Least constraining value\n",
      "Time (seconds): 1.746643304824829\n",
      "Assignments: 2027\n",
      "Solution:\n",
      "―――――――――――\n",
      "|W|W|W|B|∙|\n",
      "―――――――――――\n",
      "|B|W|B|∙|B|\n",
      "―――――――――――\n",
      "|∙|B|∙|B|W|\n",
      "―――――――――――\n",
      "|∙|W|B|W|B|\n",
      "―――――――――――\n",
      "|W|B|W|B|W|\n",
      "―――――――――――\n",
      "\n",
      "Heuristic: Forward checking\n",
      "Time (seconds): 0.07255125045776367\n",
      "Assignments: 2027\n",
      "Solution:\n",
      "―――――――――――\n",
      "|W|W|W|B|∙|\n",
      "―――――――――――\n",
      "|B|W|B|∙|B|\n",
      "―――――――――――\n",
      "|∙|B|∙|B|W|\n",
      "―――――――――――\n",
      "|∙|W|B|W|B|\n",
      "―――――――――――\n",
      "|W|B|W|B|W|\n",
      "―――――――――――\n",
      "\n"
     ]
    }
   ],
   "source": [
    "# code for solving the k-knights problem as a CSP problem..\n",
    "\n",
    "nklist = [(4, 4), (5, 10), (5, 12), (6, 12), (8, 24), (10, 40), (12, 60), (14, 84), (16, 100), (16, 112)]\n",
    "\n",
    "index = 1\n",
    "n = nklist[index][0]\n",
    "k = nklist[index][1]\n",
    "\n",
    "problem = knights(k, n)\n",
    "print('Heuristic: None')\n",
    "start = time.time()\n",
    "result = csp.backtracking_search(problem)\n",
    "end = time.time() - start\n",
    "print('Time (seconds):', end)\n",
    "print('Assignments:', problem.nassigns)\n",
    "print('Solution:')\n",
    "problem.display(result)\n",
    "print()\n",
    "del problem\n",
    "\n",
    "problem = knights(k, n)\n",
    "print('Heuristic: Most constrained variable')\n",
    "start = time.time()\n",
    "result = csp.backtracking_search(problem,\n",
    "                                select_unassigned_variable=csp.mrv)\n",
    "end = time.time() - start\n",
    "print('Time (seconds):', end)\n",
    "print('Assignments:', problem.nassigns)\n",
    "print('Solution:')\n",
    "problem.display(result)\n",
    "print()\n",
    "\n",
    "problem = knights(k, n)\n",
    "print('Heuristic: Least constraining value')\n",
    "start = time.time()\n",
    "result = csp.backtracking_search(problem,\n",
    "                                order_domain_values=csp.lcv)\n",
    "end = time.time() - start\n",
    "print('Time (seconds):', end)\n",
    "print('Assignments:', problem.nassigns)\n",
    "print('Solution:')\n",
    "problem.display(result)\n",
    "print()\n",
    "\n",
    "problem = knights(k, n)\n",
    "print('Heuristic: Forward checking')\n",
    "start = time.time()\n",
    "result = csp.backtracking_search(problem,\n",
    "                                inference=csp.forward_checking)\n",
    "end = time.time() - start\n",
    "print('Time (seconds):', end)\n",
    "print('Assignments:', problem.nassigns)\n",
    "print('Solution:')\n",
    "problem.display(result)\n",
    "print()"
   ]
  },
  {
   "cell_type": "markdown",
   "metadata": {},
   "source": [
    "<u>Results</u>:\n",
    "\n",
    "<b>*n* = 5, *k* = 10</b>\n",
    "\n",
    "| Heuristic                 | Assignments | Time (sec) |\n",
    "|-|-|-|\n",
    "| None                      | 2027        | 0.93002    |\n",
    "| Most constrained variable | 20          | 0.00956    |\n",
    "| Least constraining value  | 2027        | 1.74664    |\n",
    "| Forward checking          | 2027        | 0.07255    |\n",
    "\n",
    "<u>Discussion</u>:\n",
    "\n",
    "I chose to use 5 as the number for *n* and 10 for *k* because I think it takes sufficiently long to run (~1 sec). Anything larger seemed to take too long to solve. For example: *n* = 6 & *k* = 12 took more than 60 seconds for no heuristics to solve. The \"most constrained variable\" heuristic took varying assignments to solve when I ran it, the least I found was 20 when the others took about 2000, although it generally took way longer than the others.\n",
    "\n",
    "I purposefully chose to write the variables list in my knights class as all white then all black knights, instead of using alternating colors. Alternating colors is already very close to the solution so the number of assignments will be the same for all heuristics. It could solve *n* = 20 and *k* = 100 in less than 1 second.\n",
    "\n",
    "Forward checking was the fastest heuristic on average because it can prune branches that we find to be impossible so we don't have to check them.\n",
    "\n",
    "I'm not including statistics when using all three heuristics together because it takes significantly longer to run than when using any other single one. For example: when *n* = 5 & *k* = 12 it takes 0.00736 seconds to solve with no heuristics, but 21.19605 seconds to solve with all heuristics. And also the number of assignments was over 6000 times more.\n"
   ]
  },
  {
   "cell_type": "markdown",
   "metadata": {},
   "source": [
    "### Task 4: *The AC3 algorithm*\n",
    "\n",
    "No, the AC3 algorithm is not able to solve the knights problem because it cannot prune domains to an extent where it can definitively make any progress or even place a knight on the board. It will terminate when it can't prune anymore domains from the variables, but because it can't prune enough domains to say that any knight must go to any one tile it will terminate before progress is made. This is because all white or black knights can be swapped around for each other of the same color and still be valid."
   ]
  },
  {
   "cell_type": "markdown",
   "metadata": {},
   "source": [
    "## Submission\n",
    "\n",
    "Answer the questions in the cells reserved for that purpose.\n",
    "Submit your report as a Jupyter notebook via Canvas. Running the notebook should generate all the results in your notebook.  Leave the output of your notebook intact so we don't have to run it to see the results.\n",
    "\n",
    "## Grading\n",
    "\n",
    "Grading will be based on the following criteria:\n",
    "\n",
    "* Your code solves the specified problem.\n",
    "* Overall readability and organization of the notebook.\n",
    "* Effort in making interesting observations where required.\n",
    "* Conciseness. Points may be taken off if the notebook is overly long."
   ]
  }
 ],
 "metadata": {
  "kernelspec": {
   "display_name": "Python 3",
   "language": "python",
   "name": "python3"
  },
  "language_info": {
   "codemirror_mode": {
    "name": "ipython",
    "version": 3
   },
   "file_extension": ".py",
   "mimetype": "text/x-python",
   "name": "python",
   "nbconvert_exporter": "python",
   "pygments_lexer": "ipython3",
   "version": "3.7.3"
  }
 },
 "nbformat": 4,
 "nbformat_minor": 2
}
